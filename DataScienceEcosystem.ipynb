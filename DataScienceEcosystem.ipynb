{
 "cells": [
  {
   "cell_type": "markdown",
   "id": "2cd7f00d-ff36-4df0-9fa8-1a0f81034294",
   "metadata": {},
   "source": [
    "# Data Science Tools and Ecosystem"
   ]
  },
  {
   "cell_type": "code",
   "execution_count": 12,
   "id": "81475b3e-2ea3-4c66-884f-6c6ccbb5451b",
   "metadata": {},
   "outputs": [
    {
     "name": "stdout",
     "output_type": "stream",
     "text": [
      "In this notebook, Data Science Tools and Ecosystem are summarized.\n"
     ]
    }
   ],
   "source": [
    "print(\"In this notebook, Data Science Tools and Ecosystem are summarized.\")"
   ]
  },
  {
   "cell_type": "markdown",
   "id": "e5135b6a-8370-40cc-9913-2825b21e5792",
   "metadata": {},
   "source": [
    "**Objectives:**"
   ]
  },
  {
   "cell_type": "markdown",
   "id": "03b77da0-34bf-4717-943f-a3d8df3af7d4",
   "metadata": {},
   "source": [
    "- Popular Languages In data science\n",
    "- Commonly Used Libraries\n",
    "- Simple Arithmatic Expressions in Python"
   ]
  },
  {
   "cell_type": "code",
   "execution_count": 14,
   "id": "ddcfc033-ee28-4ed4-ae25-51c497c7e227",
   "metadata": {},
   "outputs": [
    {
     "name": "stdout",
     "output_type": "stream",
     "text": [
      "Some of the popular languages that Data Scientists use are:\n"
     ]
    }
   ],
   "source": [
    "print(\"Some of the popular languages that Data Scientists use are:\")"
   ]
  },
  {
   "cell_type": "markdown",
   "id": "88ca0b33-2fc5-4d17-ad95-ca14b3fcc316",
   "metadata": {},
   "source": [
    "1. Python\n",
    "2. R\n",
    "3. SQL"
   ]
  },
  {
   "cell_type": "code",
   "execution_count": 19,
   "id": "d010b6f0-9060-4b23-a760-cf9e0684c3f7",
   "metadata": {},
   "outputs": [
    {
     "name": "stdout",
     "output_type": "stream",
     "text": [
      "Some of the commonly used libraries used by Data Scientists include:\n"
     ]
    }
   ],
   "source": [
    "print(\"Some of the commonly used libraries used by Data Scientists include:\")"
   ]
  },
  {
   "cell_type": "markdown",
   "id": "314a2c79-57a2-4fba-a8a8-35422b06bf76",
   "metadata": {},
   "source": [
    "- Numpy\n",
    "- Matplotlib\n",
    "- Pandas"
   ]
  },
  {
   "cell_type": "markdown",
   "id": "7314c68a-7490-4c23-8e13-44d95b088bab",
   "metadata": {},
   "source": [
    "| Data Science Tools |\n",
    "| ---- |\n",
    "|Jupyter Notebook|\n",
    "|Rstudio|\n",
    "|Spyder|"
   ]
  },
  {
   "cell_type": "markdown",
   "id": "3fb767e7-950d-4a72-8250-2aaec5db892a",
   "metadata": {},
   "source": [
    "### Below are a few examples of evaluating arithmetic expressions in Python"
   ]
  },
  {
   "cell_type": "code",
   "execution_count": 34,
   "id": "86deb648-8b92-4c1b-80df-4c8db18c82c1",
   "metadata": {},
   "outputs": [
    {
     "name": "stdout",
     "output_type": "stream",
     "text": [
      "This a simple arithmetic expression to mutiply then add integers\n"
     ]
    }
   ],
   "source": [
    "print(\"This a simple arithmetic expression to mutiply then add integers\")"
   ]
  },
  {
   "cell_type": "code",
   "execution_count": 36,
   "id": "fa45d8d9-4a74-4fbe-801d-6fe639ee117e",
   "metadata": {},
   "outputs": [
    {
     "data": {
      "text/plain": [
       "17"
      ]
     },
     "execution_count": 36,
     "metadata": {},
     "output_type": "execute_result"
    }
   ],
   "source": [
    "(3*4)+5"
   ]
  },
  {
   "cell_type": "code",
   "execution_count": 38,
   "id": "cf1b28ff-0a0b-489d-b18e-e0f9fb25e414",
   "metadata": {},
   "outputs": [
    {
     "name": "stdout",
     "output_type": "stream",
     "text": [
      "This will convert 200 minutes into hours by diving by 60\n"
     ]
    }
   ],
   "source": [
    "print(\"This will convert 200 minutes into hours by diving by 60\")"
   ]
  },
  {
   "cell_type": "code",
   "execution_count": 4,
   "id": "eda47567-d6d3-47cd-8a59-73b58214246a",
   "metadata": {},
   "outputs": [
    {
     "data": {
      "text/plain": [
       "3.3333333333333335"
      ]
     },
     "execution_count": 4,
     "metadata": {},
     "output_type": "execute_result"
    }
   ],
   "source": [
    "(200/60)"
   ]
  },
  {
   "cell_type": "markdown",
   "id": "ab618b2b-ef6a-4cb4-a286-f071fe0023f6",
   "metadata": {},
   "source": [
    "## Author"
   ]
  },
  {
   "cell_type": "code",
   "execution_count": 12,
   "id": "453b4b77-ce4e-41ec-9f95-6a6d9e474524",
   "metadata": {},
   "outputs": [
    {
     "name": "stdout",
     "output_type": "stream",
     "text": [
      "Emily Knight-Hastings\n"
     ]
    }
   ],
   "source": [
    "print(\"Emily Knight-Hastings\")"
   ]
  },
  {
   "cell_type": "code",
   "execution_count": null,
   "id": "94faf5a5-9322-4897-adbe-8f03c440ba27",
   "metadata": {},
   "outputs": [],
   "source": []
  }
 ],
 "metadata": {
  "kernelspec": {
   "display_name": "Python 3 (ipykernel)",
   "language": "python",
   "name": "python3"
  },
  "language_info": {
   "codemirror_mode": {
    "name": "ipython",
    "version": 3
   },
   "file_extension": ".py",
   "mimetype": "text/x-python",
   "name": "python",
   "nbconvert_exporter": "python",
   "pygments_lexer": "ipython3",
   "version": "3.12.4"
  }
 },
 "nbformat": 4,
 "nbformat_minor": 5
}
